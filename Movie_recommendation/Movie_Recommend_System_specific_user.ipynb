{
 "cells": [
  {
   "cell_type": "markdown",
   "id": "ce49ee3d-8132-4075-8e1d-f0bf817654dd",
   "metadata": {},
   "source": [
    "   # MOVIE RECOMMENDATIONS SYSTEM FOR SPECIFIC USER"
   ]
  },
  {
   "cell_type": "markdown",
   "id": "19301e39-c0f5-483a-a8b0-26955d279f30",
   "metadata": {},
   "source": [
    "# Importing Necessary Libraries"
   ]
  },
  {
   "cell_type": "code",
   "execution_count": 12,
   "id": "a74940c9-48b4-4c7b-9532-83d031c236fa",
   "metadata": {},
   "outputs": [],
   "source": [
    "import pandas as pd\n",
    "from scipy.sparse import csr_matrix\n",
    "from scipy.sparse.linalg import svds\n",
    "import numpy as np"
   ]
  },
  {
   "cell_type": "markdown",
   "id": "b61e352a-fc88-446d-b651-94c5f9ffb8cf",
   "metadata": {},
   "source": [
    "# Loading the Data"
   ]
  },
  {
   "cell_type": "code",
   "execution_count": 18,
   "id": "c656cae6-e000-4143-9044-d4756b6e5e91",
   "metadata": {},
   "outputs": [],
   "source": [
    "movies = pd.read_csv(r\"C:\\Users\\suriya\\Movie_recommendation\\ml-25m\\ml-25m\\movies.csv\")\n",
    "ratings = pd.read_csv(r\"C:\\Users\\suriya\\Movie_recommendation\\ml-25m\\ml-25m\\ratings.csv\")"
   ]
  },
  {
   "cell_type": "code",
   "execution_count": 19,
   "id": "36267d44-646a-4eae-8a7e-4137765d5cfa",
   "metadata": {},
   "outputs": [
    {
     "name": "stdout",
     "output_type": "stream",
     "text": [
      "Index(['movieId', 'title', 'genres'], dtype='object')\n"
     ]
    }
   ],
   "source": [
    "print(movies.columns)"
   ]
  },
  {
   "cell_type": "code",
   "execution_count": 20,
   "id": "1a8c8011-1f2a-4c0c-867f-eb88822d2f58",
   "metadata": {},
   "outputs": [
    {
     "name": "stdout",
     "output_type": "stream",
     "text": [
      "Index(['userId', 'movieId', 'rating', 'timestamp'], dtype='object')\n"
     ]
    }
   ],
   "source": [
    "print(ratings.columns)"
   ]
  },
  {
   "cell_type": "markdown",
   "id": "58714950-d139-4fcc-947c-26b9e0af57f3",
   "metadata": {},
   "source": [
    "# Creating a Sparse Matrix"
   ]
  },
  {
   "cell_type": "code",
   "execution_count": 21,
   "id": "ba6d89e9-6371-4851-b5d0-4f175fcefb31",
   "metadata": {},
   "outputs": [],
   "source": [
    "user_item_sparse_matrix = csr_matrix((ratings['rating'], (ratings['userId'], ratings['movieId'])))"
   ]
  },
  {
   "cell_type": "markdown",
   "id": "7c2a6f7f-2405-4abd-ab02-9c4e292495ab",
   "metadata": {},
   "source": [
    "# Performing Singular Value Decomposition (SVD)"
   ]
  },
  {
   "cell_type": "code",
   "execution_count": 22,
   "id": "f0a01770-bfbd-4512-8ee0-0fa937989c91",
   "metadata": {},
   "outputs": [],
   "source": [
    "U, sigma, Vt = svds(user_item_sparse_matrix, k=50)\n",
    "sigma = np.diag(sigma)"
   ]
  },
  {
   "cell_type": "markdown",
   "id": "26e94aa8-3eb8-40e9-a181-c2dd1ab18f7d",
   "metadata": {},
   "source": [
    "# Defining Utility Functions"
   ]
  },
  {
   "cell_type": "code",
   "execution_count": 23,
   "id": "891ce28f-2b52-47a0-9892-9f46ebf4ddcc",
   "metadata": {},
   "outputs": [],
   "source": [
    "def predict_user_ratings(user_id, U, sigma, Vt, user_item_sparse_matrix):\n",
    "    user_row_number = user_id - 1  \n",
    "    user_ratings = np.dot(np.dot(U[user_row_number, :], sigma), Vt)\n",
    "    user_actual_ratings = user_item_sparse_matrix[user_row_number, :].toarray().flatten()\n",
    "    return user_ratings, user_actual_ratings\n",
    "\n",
    "def rmse(prediction, ground_truth):\n",
    "    prediction = prediction[ground_truth.nonzero()]\n",
    "    ground_truth = ground_truth[ground_truth.nonzero()]\n",
    "    if len(ground_truth) == 0:\n",
    "        return np.nan\n",
    "    return np.sqrt(np.mean((prediction - ground_truth) ** 2))\n",
    "\n",
    "def recommend_movies(user_id, U, sigma, Vt, user_item_sparse_matrix, movies, num_recommendations=10):\n",
    "    user_ratings, user_actual_ratings = predict_user_ratings(user_id, U, sigma, Vt, user_item_sparse_matrix)\n",
    "    if user_actual_ratings.sum() == 0:\n",
    "        return pd.DataFrame()\n",
    "    already_rated = np.where(user_actual_ratings != 0)[0]\n",
    "    recommendations = [(i, user_ratings[i]) for i in range(len(user_ratings)) if i not in already_rated]\n",
    "    recommendations.sort(key=lambda x: x[1], reverse=True)\n",
    "    top_recommendations = recommendations[:num_recommendations]\n",
    "    recommended_movie_ids = [x[0] for x in top_recommendations]\n",
    "    recommended_movies = movies[movies['movieId'].isin(recommended_movie_ids)]\n",
    "    return recommended_movies\n"
   ]
  },
  {
   "cell_type": "markdown",
   "id": "f2707024-7645-4cee-972b-907c51b939cf",
   "metadata": {},
   "source": [
    "# Evaluating RMSE for a Sample of Users"
   ]
  },
  {
   "cell_type": "code",
   "execution_count": 24,
   "id": "80b4fe53-943c-45cf-be95-500aad898627",
   "metadata": {},
   "outputs": [
    {
     "name": "stdout",
     "output_type": "stream",
     "text": [
      "Number of users with ratings: 162541\n",
      "Average RMSE:  2.72967566966825\n"
     ]
    }
   ],
   "source": [
    "users_with_ratings = ratings.groupby('userId').size()\n",
    "users_with_ratings = users_with_ratings[users_with_ratings > 0].index.tolist()\n",
    "print(f\"Number of users with ratings: {len(users_with_ratings)}\")\n",
    "\n",
    "rmses = []\n",
    "sample_users = users_with_ratings[:100]  \n",
    "\n",
    "for user_id in sample_users:\n",
    "    predicted_ratings, actual_ratings = predict_user_ratings(user_id, U, sigma, Vt, user_item_sparse_matrix)\n",
    "    rmse_value = rmse(predicted_ratings, actual_ratings)\n",
    "    if not np.isnan(rmse_value):\n",
    "        rmses.append(rmse_value)\n",
    "\n",
    "if rmses:\n",
    "    print('Average RMSE: ', np.mean(rmses))\n",
    "else:\n",
    "    print('No applicable RMSE values (no actual ratings found for evaluated users)')\n"
   ]
  },
  {
   "cell_type": "markdown",
   "id": "7837fd5e-5fd7-4563-a6a5-331144958c27",
   "metadata": {},
   "source": [
    "# Generating Recommendations for a Specific User"
   ]
  },
  {
   "cell_type": "code",
   "execution_count": 35,
   "id": "2d887be1-1384-4204-b2b5-0d181ef287b3",
   "metadata": {},
   "outputs": [
    {
     "name": "stdout",
     "output_type": "stream",
     "text": [
      "      movieId                                              title  \\\n",
      "228       231             Dumb & Dumber (Dumb and Dumber) (1994)   \n",
      "289       293  Léon: The Professional (a.k.a. The Professiona...   \n",
      "344       349                    Clear and Present Danger (1994)   \n",
      "362       367                                   Mask, The (1994)   \n",
      "429       434                                 Cliffhanger (1993)   \n",
      "584       592                                      Batman (1989)   \n",
      "721       736                                     Twister (1996)   \n",
      "814       832                                      Ransom (1996)   \n",
      "1062     1089                              Reservoir Dogs (1992)   \n",
      "1258     1291          Indiana Jones and the Last Crusade (1989)   \n",
      "\n",
      "                                 genres  \n",
      "228                    Adventure|Comedy  \n",
      "289         Action|Crime|Drama|Thriller  \n",
      "344         Action|Crime|Drama|Thriller  \n",
      "362         Action|Comedy|Crime|Fantasy  \n",
      "429           Action|Adventure|Thriller  \n",
      "584               Action|Crime|Thriller  \n",
      "721   Action|Adventure|Romance|Thriller  \n",
      "814                      Crime|Thriller  \n",
      "1062             Crime|Mystery|Thriller  \n",
      "1258                   Action|Adventure  \n"
     ]
    }
   ],
   "source": [
    "user_id = sample_users[8] \n",
    "recommended_movies = recommend_movies(user_id, U, sigma, Vt, user_item_sparse_matrix, movies)\n",
    "\n",
    "if not recommended_movies.empty:\n",
    "    print(recommended_movies)\n",
    "else:\n",
    "    print('No recommendations available (user has no actual ratings)')\n"
   ]
  },
  {
   "cell_type": "code",
   "execution_count": null,
   "id": "c65f3a8d-e508-4b13-849a-ebbefa65d717",
   "metadata": {},
   "outputs": [],
   "source": []
  }
 ],
 "metadata": {
  "kernelspec": {
   "display_name": "new_env_py3.9",
   "language": "python",
   "name": "new_env_py3.9"
  },
  "language_info": {
   "codemirror_mode": {
    "name": "ipython",
    "version": 3
   },
   "file_extension": ".py",
   "mimetype": "text/x-python",
   "name": "python",
   "nbconvert_exporter": "python",
   "pygments_lexer": "ipython3",
   "version": "3.9.15"
  }
 },
 "nbformat": 4,
 "nbformat_minor": 5
}

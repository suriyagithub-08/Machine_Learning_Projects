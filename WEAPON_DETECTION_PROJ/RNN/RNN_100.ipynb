{
 "cells": [
  {
   "cell_type": "code",
   "execution_count": 6,
   "id": "0bfbc14b",
   "metadata": {},
   "outputs": [
    {
     "name": "stderr",
     "output_type": "stream",
     "text": [
      "WARNING:absl:`lr` is deprecated in Keras optimizer, please use `learning_rate` or use the legacy optimizer, e.g.,tf.keras.optimizers.legacy.Adam.\n"
     ]
    },
    {
     "name": "stdout",
     "output_type": "stream",
     "text": [
      "Found 287 images belonging to 2 classes.\n",
      "Found 716 images belonging to 2 classes.\n",
      "Found 287 images belonging to 2 classes.\n",
      "Epoch 1/10\n",
      "15/50 [========>.....................] - ETA: 54s - loss: 1.0392 - accuracy: 0.5854WARNING:tensorflow:Your input ran out of data; interrupting training. Make sure that your dataset or generator can generate at least `steps_per_epoch * epochs` batches (in this case, 500 batches). You may need to use the repeat() function when building your dataset.\n"
     ]
    },
    {
     "name": "stderr",
     "output_type": "stream",
     "text": [
      "WARNING:tensorflow:Your input ran out of data; interrupting training. Make sure that your dataset or generator can generate at least `steps_per_epoch * epochs` batches (in this case, 500 batches). You may need to use the repeat() function when building your dataset.\n"
     ]
    },
    {
     "name": "stdout",
     "output_type": "stream",
     "text": [
      "50/50 [==============================] - 50s 908ms/step - loss: 1.0392 - accuracy: 0.5854 - val_loss: 0.4813 - val_accuracy: 0.8800\n",
      "15/15 [==============================] - 21s 1s/step - loss: 0.5958 - accuracy: 0.6864\n",
      "Test Accuracy: 68.64%\n"
     ]
    }
   ],
   "source": [
    "import tensorflow as tf\n",
    "from tensorflow.keras.preprocessing.image import ImageDataGenerator\n",
    "from tensorflow.keras.models import Sequential\n",
    "from tensorflow.keras.layers import Conv2D, MaxPooling2D, Flatten, Dense\n",
    "from tensorflow.keras.optimizers import Adam\n",
    "\n",
    "# Define data paths\n",
    "train_data_dir = \"C:/NewML/MachineLearning/env/archive/test/test\"\n",
    "validation_data_dir = \"C:/NewML/MachineLearning/env/archive/weapon_detection/val/images\"\n",
    "test_data_dir = \"C:/NewML/MachineLearning/env/archive/test/test\"  # Update this path for the test data\n",
    "\n",
    "# Data preprocessing\n",
    "datagen = ImageDataGenerator(rescale=1./255, rotation_range=20, width_shift_range=0.2, height_shift_range=0.2, shear_range=0.2, zoom_range=0.2, horizontal_flip=True, fill_mode='nearest')\n",
    "\n",
    "# Define image dimensions\n",
    "image_height = 128  # Set the height of each image\n",
    "image_width = 128  # Set the width of each image\n",
    "channels = 3  # Number of color channels (e.g., 3 for RGB)\n",
    "\n",
    "# Model architecture\n",
    "model = Sequential()\n",
    "model.add(Conv2D(32, (3, 3), input_shape=(image_height, image_width, channels), activation='relu'))\n",
    "model.add(MaxPooling2D(pool_size=(2, 2)))\n",
    "model.add(Conv2D(64, (3, 3), activation='relu'))\n",
    "model.add(MaxPooling2D(pool_size=(2, 2)))\n",
    "model.add(Flatten())\n",
    "model.add(Dense(128, activation='relu'))\n",
    "model.add(Dense(1, activation='sigmoid'))\n",
    "\n",
    "# Compile the model\n",
    "model.compile(loss='binary_crossentropy', optimizer=Adam(lr=0.0001), metrics=['accuracy'])\n",
    "\n",
    "# Load and preprocess data\n",
    "batch_size = 20  # Set the batch size\n",
    "epochs = 10  # Set the number of epochs\n",
    "total_train = 1000  # Set the total number of training samples\n",
    "total_validation = 200  # Set the total number of validation samples\n",
    "\n",
    "train_generator = datagen.flow_from_directory(train_data_dir, target_size=(image_height, image_width), batch_size=batch_size, class_mode='binary')\n",
    "validation_generator = datagen.flow_from_directory(validation_data_dir, target_size=(image_height, image_width), batch_size=batch_size, class_mode='binary')\n",
    "test_generator = datagen.flow_from_directory(test_data_dir, target_size=(image_height, image_width), batch_size=batch_size, class_mode='binary')\n",
    "\n",
    "# Train the model\n",
    "model.fit(train_generator, steps_per_epoch=total_train // batch_size, epochs=epochs, validation_data=validation_generator, validation_steps=total_validation // batch_size)\n",
    "\n",
    "# Evaluate the model on the test data\n",
    "\n",
    "# ... (previous code)\n",
    "\n",
    "# Evaluate the model on the test data\n",
    "test_evaluation = model.evaluate(test_generator)\n",
    "\n",
    "# Calculate accuracy as a percentage\n",
    "test_accuracy = test_evaluation[1] * 100\n",
    "\n",
    "# Print the test accuracy as a percentage\n",
    "print(f\"Test Accuracy: {test_accuracy:.2f}%\")\n",
    "\n",
    "# Save the trained model\n",
    "model.save('weapon_detection_model.h5')\n",
    "\n"
   ]
  }
 ],
 "metadata": {
  "kernelspec": {
   "display_name": "Python 3 (ipykernel)",
   "language": "python",
   "name": "python3"
  },
  "language_info": {
   "codemirror_mode": {
    "name": "ipython",
    "version": 3
   },
   "file_extension": ".py",
   "mimetype": "text/x-python",
   "name": "python",
   "nbconvert_exporter": "python",
   "pygments_lexer": "ipython3",
   "version": "3.10.13"
  }
 },
 "nbformat": 4,
 "nbformat_minor": 5
}

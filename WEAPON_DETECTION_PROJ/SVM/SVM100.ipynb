{
 "cells": [
  {
   "cell_type": "code",
   "execution_count": 1,
   "id": "ebaa7df0",
   "metadata": {
    "scrolled": true
   },
   "outputs": [
    {
     "name": "stdout",
     "output_type": "stream",
     "text": [
      " Accuracy: 88.65979381443299\n"
     ]
    }
   ],
   "source": [
    "import os\n",
    "import numpy as np\n",
    "import cv2\n",
    "from sklearn.model_selection import train_test_split\n",
    "from sklearn import svm\n",
    "from sklearn.metrics import accuracy_score\n",
    "\n",
    "data_dir = \"C:\\\\NewML\\\\MachineLearning\\\\env\\\\archive\\\\test\"\n",
    "train_data_dir = os.path.join(data_dir, \"test\")\n",
    "\n",
    "def load_data(data_dir):\n",
    "    # Load and preprocess your data\n",
    "    X = []\n",
    "    y = []\n",
    "    common_image_size = (128, 128)  # Set the desired size (width, height)\n",
    "\n",
    "    for label in os.listdir(data_dir):\n",
    "        label_dir = os.path.join(data_dir, label)\n",
    "        if os.path.isdir(label_dir):\n",
    "            for filename in os.listdir(label_dir):\n",
    "                image = cv2.imread(os.path.join(label_dir, filename))\n",
    "                if image is not None and not image.size == 0:\n",
    "                    image_resized = cv2.resize(image, common_image_size)\n",
    "                    X.append(image_resized)\n",
    "                    y.append(1 if label == \"weapon\" else 0)\n",
    "\n",
    "    X = np.array(X)\n",
    "    y = np.array(y)\n",
    "\n",
    "    return X, y\n",
    "\n",
    "def preprocess_data(X):\n",
    "    # Flatten and normalize the data\n",
    "    X = X.reshape(X.shape[0], -1)\n",
    "    X = X / 255.0  # Normalize pixel values to the range [0, 1]\n",
    "    return X\n",
    "\n",
    "if __name__ == \"__main__\":\n",
    "    # Load data\n",
    "    X, y = load_data(train_data_dir)\n",
    "\n",
    "    # Preprocess data\n",
    "    X = preprocess_data(X)\n",
    "\n",
    "    # Split the data into train and validation sets\n",
    "    X_train, X_validation, y_train, y_validation = train_test_split(X, y, test_size=0.2, random_state=42)\n",
    "\n",
    "    # Create and train the SVM classifier\n",
    "    clf = svm.SVC(kernel='linear', C=1)\n",
    "    clf.fit(X_train, y_train)\n",
    "\n",
    "    # Evaluate the model on the validation set\n",
    "    y_pred = clf.predict(X_validation)\n",
    "    final_accuracy = accuracy_score(y_validation, y_pred)*100\n",
    "    print(\" Accuracy:\", final_accuracy)\n"
   ]
  }
 ],
 "metadata": {
  "kernelspec": {
   "display_name": "Python 3 (ipykernel)",
   "language": "python",
   "name": "python3"
  },
  "language_info": {
   "codemirror_mode": {
    "name": "ipython",
    "version": 3
   },
   "file_extension": ".py",
   "mimetype": "text/x-python",
   "name": "python",
   "nbconvert_exporter": "python",
   "pygments_lexer": "ipython3",
   "version": "3.10.13"
  }
 },
 "nbformat": 4,
 "nbformat_minor": 5
}

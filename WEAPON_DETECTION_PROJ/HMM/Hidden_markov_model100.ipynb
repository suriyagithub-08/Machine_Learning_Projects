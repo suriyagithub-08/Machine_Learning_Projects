{
 "cells": [
  {
   "cell_type": "code",
   "execution_count": 6,
   "id": "c633a4f9",
   "metadata": {},
   "outputs": [
    {
     "name": "stderr",
     "output_type": "stream",
     "text": [
      "MultinomialHMM has undergone major changes. The previous version was implementing a CategoricalHMM (a special case of MultinomialHMM). This new implementation follows the standard definition for a Multinomial distribution (e.g. as in https://en.wikipedia.org/wiki/Multinomial_distribution). See these issues for details:\n",
      "https://github.com/hmmlearn/hmmlearn/issues/335\n",
      "https://github.com/hmmlearn/hmmlearn/issues/340\n"
     ]
    },
    {
     "name": "stdout",
     "output_type": "stream",
     "text": [
      "Number of training images: 657\n",
      "Shape of training_data: (657, 100, 100)\n"
     ]
    },
    {
     "data": {
      "text/html": [
       "<style>#sk-container-id-3 {color: black;}#sk-container-id-3 pre{padding: 0;}#sk-container-id-3 div.sk-toggleable {background-color: white;}#sk-container-id-3 label.sk-toggleable__label {cursor: pointer;display: block;width: 100%;margin-bottom: 0;padding: 0.3em;box-sizing: border-box;text-align: center;}#sk-container-id-3 label.sk-toggleable__label-arrow:before {content: \"▸\";float: left;margin-right: 0.25em;color: #696969;}#sk-container-id-3 label.sk-toggleable__label-arrow:hover:before {color: black;}#sk-container-id-3 div.sk-estimator:hover label.sk-toggleable__label-arrow:before {color: black;}#sk-container-id-3 div.sk-toggleable__content {max-height: 0;max-width: 0;overflow: hidden;text-align: left;background-color: #f0f8ff;}#sk-container-id-3 div.sk-toggleable__content pre {margin: 0.2em;color: black;border-radius: 0.25em;background-color: #f0f8ff;}#sk-container-id-3 input.sk-toggleable__control:checked~div.sk-toggleable__content {max-height: 200px;max-width: 100%;overflow: auto;}#sk-container-id-3 input.sk-toggleable__control:checked~label.sk-toggleable__label-arrow:before {content: \"▾\";}#sk-container-id-3 div.sk-estimator input.sk-toggleable__control:checked~label.sk-toggleable__label {background-color: #d4ebff;}#sk-container-id-3 div.sk-label input.sk-toggleable__control:checked~label.sk-toggleable__label {background-color: #d4ebff;}#sk-container-id-3 input.sk-hidden--visually {border: 0;clip: rect(1px 1px 1px 1px);clip: rect(1px, 1px, 1px, 1px);height: 1px;margin: -1px;overflow: hidden;padding: 0;position: absolute;width: 1px;}#sk-container-id-3 div.sk-estimator {font-family: monospace;background-color: #f0f8ff;border: 1px dotted black;border-radius: 0.25em;box-sizing: border-box;margin-bottom: 0.5em;}#sk-container-id-3 div.sk-estimator:hover {background-color: #d4ebff;}#sk-container-id-3 div.sk-parallel-item::after {content: \"\";width: 100%;border-bottom: 1px solid gray;flex-grow: 1;}#sk-container-id-3 div.sk-label:hover label.sk-toggleable__label {background-color: #d4ebff;}#sk-container-id-3 div.sk-serial::before {content: \"\";position: absolute;border-left: 1px solid gray;box-sizing: border-box;top: 0;bottom: 0;left: 50%;z-index: 0;}#sk-container-id-3 div.sk-serial {display: flex;flex-direction: column;align-items: center;background-color: white;padding-right: 0.2em;padding-left: 0.2em;position: relative;}#sk-container-id-3 div.sk-item {position: relative;z-index: 1;}#sk-container-id-3 div.sk-parallel {display: flex;align-items: stretch;justify-content: center;background-color: white;position: relative;}#sk-container-id-3 div.sk-item::before, #sk-container-id-3 div.sk-parallel-item::before {content: \"\";position: absolute;border-left: 1px solid gray;box-sizing: border-box;top: 0;bottom: 0;left: 50%;z-index: -1;}#sk-container-id-3 div.sk-parallel-item {display: flex;flex-direction: column;z-index: 1;position: relative;background-color: white;}#sk-container-id-3 div.sk-parallel-item:first-child::after {align-self: flex-end;width: 50%;}#sk-container-id-3 div.sk-parallel-item:last-child::after {align-self: flex-start;width: 50%;}#sk-container-id-3 div.sk-parallel-item:only-child::after {width: 0;}#sk-container-id-3 div.sk-dashed-wrapped {border: 1px dashed gray;margin: 0 0.4em 0.5em 0.4em;box-sizing: border-box;padding-bottom: 0.4em;background-color: white;}#sk-container-id-3 div.sk-label label {font-family: monospace;font-weight: bold;display: inline-block;line-height: 1.2em;}#sk-container-id-3 div.sk-label-container {text-align: center;}#sk-container-id-3 div.sk-container {/* jupyter's `normalize.less` sets `[hidden] { display: none; }` but bootstrap.min.css set `[hidden] { display: none !important; }` so we also need the `!important` here to be able to override the default hidden behavior on the sphinx rendered scikit-learn.org. See: https://github.com/scikit-learn/scikit-learn/issues/21755 */display: inline-block !important;position: relative;}#sk-container-id-3 div.sk-text-repr-fallback {display: none;}</style><div id=\"sk-container-id-3\" class=\"sk-top-container\"><div class=\"sk-text-repr-fallback\"><pre>MultinomialHMM(n_components=2,\n",
       "               n_trials=array([ 747545,  934610, 1020848, 1756172, 2376858, 1345830, 1199129,\n",
       "       1400970, 1518311, 2296700, 2295516, 2227169, 2227510, 2500418,\n",
       "       1985929, 2296380, 2098935, 2006062, 1682003,  595508, 2342017,\n",
       "       2349948, 2313718, 2113846, 1105211, 2365537, 2357771, 1521670,\n",
       "       1955037, 1778853, 2197483, 1313111, 1345968, 1938412, 1066624,\n",
       "       1131000, 1829276, 1870446, 188...\n",
       "       2421140, 2445104, 1744409,  460785, 2229859, 2350580, 2492207,\n",
       "       1747657, 2321001,  317840, 2448652,  214709, 1409333, 2422340,\n",
       "       2411525, 2388825, 1582526,  643327, 2486921,  707892, 2430859,\n",
       "       2181478,  868920, 2492207, 2422340, 2240272, 1016517, 2240272,\n",
       "       1345932,  539739, 2401062, 2314257, 1246094, 2505393, 2469339,\n",
       "       2436067, 1711405,  772585, 2430911, 2138316, 1316794], dtype=uint32),\n",
       "               random_state=RandomState(MT19937) at 0x18AB0F97E40)</pre><b>In a Jupyter environment, please rerun this cell to show the HTML representation or trust the notebook. <br />On GitHub, the HTML representation is unable to render, please try loading this page with nbviewer.org.</b></div><div class=\"sk-container\" hidden><div class=\"sk-item\"><div class=\"sk-estimator sk-toggleable\"><input class=\"sk-toggleable__control sk-hidden--visually\" id=\"sk-estimator-id-3\" type=\"checkbox\" checked><label for=\"sk-estimator-id-3\" class=\"sk-toggleable__label sk-toggleable__label-arrow\">MultinomialHMM</label><div class=\"sk-toggleable__content\"><pre>MultinomialHMM(n_components=2,\n",
       "               n_trials=array([ 747545,  934610, 1020848, 1756172, 2376858, 1345830, 1199129,\n",
       "       1400970, 1518311, 2296700, 2295516, 2227169, 2227510, 2500418,\n",
       "       1985929, 2296380, 2098935, 2006062, 1682003,  595508, 2342017,\n",
       "       2349948, 2313718, 2113846, 1105211, 2365537, 2357771, 1521670,\n",
       "       1955037, 1778853, 2197483, 1313111, 1345968, 1938412, 1066624,\n",
       "       1131000, 1829276, 1870446, 188...\n",
       "       2421140, 2445104, 1744409,  460785, 2229859, 2350580, 2492207,\n",
       "       1747657, 2321001,  317840, 2448652,  214709, 1409333, 2422340,\n",
       "       2411525, 2388825, 1582526,  643327, 2486921,  707892, 2430859,\n",
       "       2181478,  868920, 2492207, 2422340, 2240272, 1016517, 2240272,\n",
       "       1345932,  539739, 2401062, 2314257, 1246094, 2505393, 2469339,\n",
       "       2436067, 1711405,  772585, 2430911, 2138316, 1316794], dtype=uint32),\n",
       "               random_state=RandomState(MT19937) at 0x18AB0F97E40)</pre></div></div></div></div></div>"
      ],
      "text/plain": [
       "MultinomialHMM(n_components=2,\n",
       "               n_trials=array([ 747545,  934610, 1020848, 1756172, 2376858, 1345830, 1199129,\n",
       "       1400970, 1518311, 2296700, 2295516, 2227169, 2227510, 2500418,\n",
       "       1985929, 2296380, 2098935, 2006062, 1682003,  595508, 2342017,\n",
       "       2349948, 2313718, 2113846, 1105211, 2365537, 2357771, 1521670,\n",
       "       1955037, 1778853, 2197483, 1313111, 1345968, 1938412, 1066624,\n",
       "       1131000, 1829276, 1870446, 188...\n",
       "       2421140, 2445104, 1744409,  460785, 2229859, 2350580, 2492207,\n",
       "       1747657, 2321001,  317840, 2448652,  214709, 1409333, 2422340,\n",
       "       2411525, 2388825, 1582526,  643327, 2486921,  707892, 2430859,\n",
       "       2181478,  868920, 2492207, 2422340, 2240272, 1016517, 2240272,\n",
       "       1345932,  539739, 2401062, 2314257, 1246094, 2505393, 2469339,\n",
       "       2436067, 1711405,  772585, 2430911, 2138316, 1316794], dtype=uint32),\n",
       "               random_state=RandomState(MT19937) at 0x18AB0F97E40)"
      ]
     },
     "execution_count": 6,
     "metadata": {},
     "output_type": "execute_result"
    }
   ],
   "source": [
    "import cv2\n",
    "import os\n",
    "import numpy as np\n",
    "from hmmlearn import hmm\n",
    "\n",
    "# Function to load and preprocess images\n",
    "def load_and_preprocess_images(image_directory, width, height):\n",
    "    image_data = []\n",
    "    for subdirectory in os.listdir(image_directory):\n",
    "        subdirectory_path = os.path.join(image_directory, subdirectory)\n",
    "        if os.path.isdir(subdirectory_path):\n",
    "            for filename in os.listdir(subdirectory_path):\n",
    "                image_path = os.path.join(subdirectory_path, filename)\n",
    "                image = cv2.imread(image_path, cv2.IMREAD_GRAYSCALE)\n",
    "                if image is not None and not image.size == 0:\n",
    "                    image = cv2.resize(image, (width, height))\n",
    "                    image_data.append(image)\n",
    "\n",
    "    return image_data\n",
    "\n",
    "# Load and preprocess training data\n",
    "train_directory = r\"C:/NewML/MachineLearning/env/archive/weapon_detection/train/images\"\n",
    "image_width = 100\n",
    "image_height = 100\n",
    "training_data = load_and_preprocess_images(train_directory, image_width, image_height)\n",
    "\n",
    "# Flatten and convert training_data to a 2D array\n",
    "training_data = np.array(training_data)\n",
    "\n",
    "# Labels for the training data (1 for weapon, 0 for no weapon)\n",
    "num_weapon_images = len(training_data) // 2\n",
    "num_no_weapon_images = len(training_data) // 2\n",
    "training_labels = [1] * num_weapon_images + [0] * num_no_weapon_images\n",
    "print(\"Number of training images:\", len(training_data))\n",
    "print(\"Shape of training_data:\", np.shape(training_data))\n",
    "# Flatten each image and stack them together\n",
    "flattened_training_data = training_data.reshape(657, -1)\n",
    "\n",
    "# Create and train the HMM model\n",
    "model = hmm.MultinomialHMM(n_components=2)\n",
    "model.fit(flattened_training_data)  # Make sure to use the correct training data\n",
    "\n",
    "# Now, the shape of flattened_training_data should be (657, 10000), assuming 100x100 images\n"
   ]
  },
  {
   "cell_type": "code",
   "execution_count": 7,
   "id": "5a584ca8",
   "metadata": {},
   "outputs": [
    {
     "name": "stdout",
     "output_type": "stream",
     "text": [
      "Number of test images: 289\n",
      "Accuracy: 40.83%\n",
      "Test Perplexity: -64139551.78855668\n"
     ]
    }
   ],
   "source": [
    "import numpy as np\n",
    "import os\n",
    "\n",
    "def count_images_in_directory(directory):\n",
    "    return len([f for f in os.listdir(directory) if os.path.isfile(os.path.join(directory, f))])\n",
    "\n",
    "test_directory = \"C:/NewML/MachineLearning/env/archive/test/test\"\n",
    "\n",
    "# Load and preprocess test data\n",
    "test_data = load_and_preprocess_images(test_directory, image_width, image_height)\n",
    "print(\"Number of test images:\", len(test_data))\n",
    "# Count the number of weapon and no-weapon images in the test directory\n",
    "num_test_weapon_images = count_images_in_directory(os.path.join(test_directory, 'weapon'))\n",
    "num_test_no_weapon_images = count_images_in_directory(os.path.join(test_directory, 'no_weapon'))\n",
    "\n",
    "# Convert the list of images into a NumPy array\n",
    "test_data = np.array(test_data)\n",
    "\n",
    "# Flatten the test data\n",
    "flattened_test_data = test_data.reshape(len(test_data), -1)\n",
    "\n",
    "# Use the trained HMM model to predict labels for the test data\n",
    "predicted_labels = model.predict(flattened_test_data)\n",
    "\n",
    "# Define the true labels for the test data (1 for weapon, 0 for no weapon)\n",
    "true_labels = [1] * num_test_weapon_images + [0] * num_test_no_weapon_images\n",
    "\n",
    "# Calculate accuracy\n",
    "correct_predictions = sum(1 for true_label, predicted_label in zip(true_labels, predicted_labels) if true_label == predicted_label)\n",
    "total_predictions = len(true_labels)\n",
    "accuracy = correct_predictions / total_predictions\n",
    "\n",
    "print(\"Accuracy: {:.2f}%\".format(accuracy * 100))\n",
    "test_perplexity = model.score(flattened_test_data)\n",
    "print(\"Test Perplexity:\", test_perplexity)"
   ]
  }
 ],
 "metadata": {
  "kernelspec": {
   "display_name": "Python 3 (ipykernel)",
   "language": "python",
   "name": "python3"
  },
  "language_info": {
   "codemirror_mode": {
    "name": "ipython",
    "version": 3
   },
   "file_extension": ".py",
   "mimetype": "text/x-python",
   "name": "python",
   "nbconvert_exporter": "python",
   "pygments_lexer": "ipython3",
   "version": "3.10.13"
  }
 },
 "nbformat": 4,
 "nbformat_minor": 5
}
